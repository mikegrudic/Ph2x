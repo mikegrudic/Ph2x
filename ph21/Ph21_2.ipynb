{
 "cells": [
  {
   "cell_type": "code",
   "execution_count": null,
   "metadata": {},
   "outputs": [],
   "source": [
    "%pylab\n",
    "from scipy.fftpack import fft, ifft, fftshift, fftfreq"
   ]
  },
  {
   "cell_type": "markdown",
   "metadata": {},
   "source": [
    "Let's check out the FFTs for C+A cos(ft + phi) and A exp(- B (t- L/2)^2)"
   ]
  },
  {
   "cell_type": "code",
   "execution_count": 14,
   "metadata": {
    "collapsed": true
   },
   "outputs": [],
   "source": [
    "N = 4096\n",
    "L = 1.\n",
    "t = np.linspace(0,1,N)\n",
    "freqs = fftfreq(N) * N / L\n",
    "f1 = 2. + 0.5 * np.cos(2*np.pi * 10 * t + np.pi/4) # cosine function\n",
    "fft1 = fft(f1)\n",
    "plt.scatter(freqs, np.abs(fft1), label=\"Cosine\")\n",
    "plt.xlim(-20, 20)\n",
    "plt.xlabel(\"Frequency\")\n",
    "plt.ylabel(r\"$\\|f_k\\|$\")\n",
    "plt.legend()\n",
    "plt.savefig(\"cosine_fft.pdf\", bbox_inches='tight')\n",
    "\n",
    "plt.clf()\n",
    "f2 = 0.5 / (2*np.pi*0.1**2)**0.5 * np.exp((t - L/2)**2 / 2 / (0.1**2)) # cosine function\n",
    "fft2 = fft(f2)\n",
    "\n",
    "plt.scatter(freqs, np.abs(fft2), label='Gaussian')\n",
    "plt.xlim(-20, 20)\n",
    "plt.xlabel(\"Frequency\")\n",
    "plt.ylabel(r\"$\\|f_k\\|$\")\n",
    "plt.legend()\n",
    "plt.savefig(\"gaussian_fft.pdf\", bbox_inches='tight')"
   ]
  },
  {
   "cell_type": "code",
   "execution_count": null,
   "metadata": {
    "collapsed": true
   },
   "outputs": [],
   "source": []
  }
 ],
 "metadata": {
  "kernelspec": {
   "display_name": "Python 3",
   "language": "python",
   "name": "python3"
  },
  "language_info": {
   "codemirror_mode": {
    "name": "ipython",
    "version": 3
   },
   "file_extension": ".py",
   "mimetype": "text/x-python",
   "name": "python",
   "nbconvert_exporter": "python",
   "pygments_lexer": "ipython3",
   "version": "3.6.2"
  }
 },
 "nbformat": 4,
 "nbformat_minor": 2
}
