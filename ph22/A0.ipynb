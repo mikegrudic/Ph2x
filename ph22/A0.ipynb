{
 "cells": [
  {
   "cell_type": "code",
   "execution_count": 1,
   "metadata": {},
   "outputs": [
    {
     "name": "stdout",
     "output_type": "stream",
     "text": [
      "Using matplotlib backend: Qt5Agg\n",
      "Populating the interactive namespace from numpy and matplotlib\n"
     ]
    }
   ],
   "source": [
    "%pylab\n",
    "from numba import jit, njit"
   ]
  },
  {
   "cell_type": "code",
   "execution_count": 5,
   "metadata": {},
   "outputs": [
    {
     "name": "stderr",
     "output_type": "stream",
     "text": [
      "/Users/mgrudic/anaconda3/lib/python3.6/site-packages/matplotlib/ticker.py:991: UserWarning: Warning: converting a masked element to nan.\n",
      "  return '%-12g' % value\n"
     ]
    }
   ],
   "source": [
    "eccs = 0., 0.2, 0.5, 0.9, 0.99\n",
    "t = np.linspace(0, 2*np.pi)\n",
    "plt.figure(figsize=(4,4))\n",
    "for e in eccs:\n",
    "    plt.plot(t, t - e*np.sin(t), label=r\"$e=%g$\"%e)\n",
    "plt.ylabel(\"Mean Anomaly\")\n",
    "plt.xlabel(\"Eccentric Anomaly\")\n",
    "plt.legend()\n",
    "plt.plot(t, np.repeat(np.random.rand()*2*np.pi,len(t)),color='black',ls='dashed')\n",
    "plt.xlim(0,2*np.pi)\n",
    "plt.ylim(0,2*np.pi)\n",
    "plt.savefig(\"Anomaly.pdf\",bbox_inches='tight')"
   ]
  },
  {
   "cell_type": "code",
   "execution_count": 6,
   "metadata": {
    "collapsed": true
   },
   "outputs": [],
   "source": [
    "def SecantMethod(func, x0, x1, errtol=1e-15):\n",
    "    err = 1e100\n",
    "    errs = []\n",
    "    while abs((x0-x1)/x1) > errtol:\n",
    "        y0, y1 = func(x0), func(x1)\n",
    "        x2 = x1 - y1*(x1-x0)/(y1 - y0)\n",
    "        x0, x1 = x1, x2\n",
    "        err = abs((x0-x1)/x1) \n",
    "        errs.append(err)\n",
    "    return x1, errs\n",
    "\n",
    "def BisectionMethod(func, x0, x1, errtol=1e-15):\n",
    "    # First check whether the initial guesses bracket the root\n",
    "    y0, y1 = func(x0), func(x1)\n",
    "    if not y0*y1 < 0: \n",
    "        raise ValueError(\"Initial guesses do not bracket the root!\")\n",
    "        return\n",
    "    errs = []\n",
    "    err = 1e100\n",
    "    #Now we iterate to pare the error down\n",
    "    while err > errtol:\n",
    "        x2 = (x0+x1)*0.5  # midpoint\n",
    "        y2 = func((x0+x1)*0.5)  # function value at the midpoint\n",
    "        if y0*y2 < 0:\n",
    "            x0, x1 = x0, x2\n",
    "            y0, y1 = y0, y2\n",
    "        else:\n",
    "            x0, x1 = x1, x2\n",
    "        err = abs((x0-x1)/x1)\n",
    "        errs.append(err)\n",
    "    return x1, errs\n",
    "\n",
    "def NewtonMethod(func, dfunc, x0, errtol=1e-15):\n",
    "    err = 1e100\n",
    "    errs = []\n",
    "    while err > errtol:\n",
    "        x1 = x0 - func(x0)/dfunc(x0)\n",
    "        err = abs((x1-x0)/x1)\n",
    "        x0 = x1\n",
    "        errs.append(err)\n",
    "    return x1, errs\n",
    "        "
   ]
  },
  {
   "cell_type": "markdown",
   "metadata": {},
   "source": [
    "Let's make a plot of the convergence rate by plotting ε<sub>i+1</sub> as a function of ε<sub>i</sub>"
   ]
  },
  {
   "cell_type": "code",
   "execution_count": 15,
   "metadata": {},
   "outputs": [],
   "source": [
    "func = lambda x: x*x - 2.\n",
    "dfunc = lambda x: 2*x\n",
    "plt.figure(figsize=(4,4))\n",
    "sol1, errs1 = SecantMethod(func, 1.,2.)\n",
    "sol2, errs2 = BisectionMethod(func, 1.,2.)\n",
    "sol3, errs3 = NewtonMethod(func, dfunc, 1.)\n",
    "plt.loglog(errs1[:-1],errs1[1:], label = \"Secant\")\n",
    "plt.loglog(errs2[:-1],errs2[1:], label = \"Bisection\")\n",
    "plt.loglog(errs3[:-1],errs3[1:], label = \"Newton\")\n",
    "plt.xlabel(\"$\\epsilon_{i}$\")\n",
    "plt.ylabel(\"$\\epsilon_{i+1}$\")\n",
    "plt.legend()\n",
    "plt.savefig(\"Convergence.pdf\")"
   ]
  },
  {
   "cell_type": "code",
   "execution_count": 24,
   "metadata": {
    "collapsed": true
   },
   "outputs": [],
   "source": [
    "def EccentricAnomaly(mean_anomaly, ecc):\n",
    "    x0 = mean_anomaly\n",
    "    err = 1e100\n",
    "    while abs(err) > 1e-15: # do Newton iterations\n",
    "        err = (x0 - ecc*np.sin(x0) - mean_anomaly)/(1 - ecc*np.cos(x0))\n",
    "        x_provisional\n",
    "        if x0 - err < 0 or x0 - err \n",
    "        x0 -= err\n",
    "        x0 = x0%(2*np.pi)\n",
    "    return x0\n",
    "    "
   ]
  },
  {
   "cell_type": "code",
   "execution_count": 25,
   "metadata": {},
   "outputs": [
    {
     "ename": "KeyboardInterrupt",
     "evalue": "",
     "output_type": "error",
     "traceback": [
      "\u001b[0;31m---------------------------------------------------------------------------\u001b[0m",
      "\u001b[0;31mKeyboardInterrupt\u001b[0m                         Traceback (most recent call last)",
      "\u001b[0;32m<ipython-input-25-80fcfbe5cc97>\u001b[0m in \u001b[0;36m<module>\u001b[0;34m()\u001b[0m\n\u001b[1;32m      1\u001b[0m \u001b[0mt\u001b[0m \u001b[0;34m=\u001b[0m \u001b[0mnp\u001b[0m\u001b[0;34m.\u001b[0m\u001b[0mlinspace\u001b[0m\u001b[0;34m(\u001b[0m\u001b[0;36m0\u001b[0m\u001b[0;34m,\u001b[0m \u001b[0;36m2\u001b[0m\u001b[0;34m*\u001b[0m\u001b[0mnp\u001b[0m\u001b[0;34m.\u001b[0m\u001b[0mpi\u001b[0m\u001b[0;34m,\u001b[0m \u001b[0;36m100\u001b[0m\u001b[0;34m)\u001b[0m\u001b[0;34m\u001b[0m\u001b[0m\n\u001b[0;32m----> 2\u001b[0;31m \u001b[0mphi\u001b[0m \u001b[0;34m=\u001b[0m \u001b[0mnp\u001b[0m\u001b[0;34m.\u001b[0m\u001b[0marray\u001b[0m\u001b[0;34m(\u001b[0m\u001b[0;34m[\u001b[0m\u001b[0mEccentricAnomaly\u001b[0m\u001b[0;34m(\u001b[0m\u001b[0mT\u001b[0m\u001b[0;34m,\u001b[0m \u001b[0;36m0.9\u001b[0m\u001b[0;34m)\u001b[0m \u001b[0;32mfor\u001b[0m \u001b[0mT\u001b[0m \u001b[0;32min\u001b[0m \u001b[0mt\u001b[0m\u001b[0;34m]\u001b[0m\u001b[0;34m)\u001b[0m\u001b[0;34m\u001b[0m\u001b[0m\n\u001b[0m",
      "\u001b[0;32m<ipython-input-25-80fcfbe5cc97>\u001b[0m in \u001b[0;36m<listcomp>\u001b[0;34m(.0)\u001b[0m\n\u001b[1;32m      1\u001b[0m \u001b[0mt\u001b[0m \u001b[0;34m=\u001b[0m \u001b[0mnp\u001b[0m\u001b[0;34m.\u001b[0m\u001b[0mlinspace\u001b[0m\u001b[0;34m(\u001b[0m\u001b[0;36m0\u001b[0m\u001b[0;34m,\u001b[0m \u001b[0;36m2\u001b[0m\u001b[0;34m*\u001b[0m\u001b[0mnp\u001b[0m\u001b[0;34m.\u001b[0m\u001b[0mpi\u001b[0m\u001b[0;34m,\u001b[0m \u001b[0;36m100\u001b[0m\u001b[0;34m)\u001b[0m\u001b[0;34m\u001b[0m\u001b[0m\n\u001b[0;32m----> 2\u001b[0;31m \u001b[0mphi\u001b[0m \u001b[0;34m=\u001b[0m \u001b[0mnp\u001b[0m\u001b[0;34m.\u001b[0m\u001b[0marray\u001b[0m\u001b[0;34m(\u001b[0m\u001b[0;34m[\u001b[0m\u001b[0mEccentricAnomaly\u001b[0m\u001b[0;34m(\u001b[0m\u001b[0mT\u001b[0m\u001b[0;34m,\u001b[0m \u001b[0;36m0.9\u001b[0m\u001b[0;34m)\u001b[0m \u001b[0;32mfor\u001b[0m \u001b[0mT\u001b[0m \u001b[0;32min\u001b[0m \u001b[0mt\u001b[0m\u001b[0;34m]\u001b[0m\u001b[0;34m)\u001b[0m\u001b[0;34m\u001b[0m\u001b[0m\n\u001b[0m",
      "\u001b[0;32m<ipython-input-24-266eaeffca46>\u001b[0m in \u001b[0;36mEccentricAnomaly\u001b[0;34m(mean_anomaly, ecc)\u001b[0m\n\u001b[1;32m      2\u001b[0m     \u001b[0mx0\u001b[0m \u001b[0;34m=\u001b[0m \u001b[0mmean_anomaly\u001b[0m\u001b[0;34m\u001b[0m\u001b[0m\n\u001b[1;32m      3\u001b[0m     \u001b[0merr\u001b[0m \u001b[0;34m=\u001b[0m \u001b[0;36m1e100\u001b[0m\u001b[0;34m\u001b[0m\u001b[0m\n\u001b[0;32m----> 4\u001b[0;31m     \u001b[0;32mwhile\u001b[0m \u001b[0mabs\u001b[0m\u001b[0;34m(\u001b[0m\u001b[0merr\u001b[0m\u001b[0;34m)\u001b[0m \u001b[0;34m>\u001b[0m \u001b[0;36m1e-15\u001b[0m\u001b[0;34m:\u001b[0m \u001b[0;31m# do Newton iterations\u001b[0m\u001b[0;34m\u001b[0m\u001b[0m\n\u001b[0m\u001b[1;32m      5\u001b[0m         \u001b[0merr\u001b[0m \u001b[0;34m=\u001b[0m \u001b[0;34m(\u001b[0m\u001b[0mx0\u001b[0m \u001b[0;34m-\u001b[0m \u001b[0mecc\u001b[0m\u001b[0;34m*\u001b[0m\u001b[0mnp\u001b[0m\u001b[0;34m.\u001b[0m\u001b[0msin\u001b[0m\u001b[0;34m(\u001b[0m\u001b[0mx0\u001b[0m\u001b[0;34m)\u001b[0m \u001b[0;34m-\u001b[0m \u001b[0mmean_anomaly\u001b[0m\u001b[0;34m)\u001b[0m\u001b[0;34m/\u001b[0m\u001b[0;34m(\u001b[0m\u001b[0;36m1\u001b[0m \u001b[0;34m-\u001b[0m \u001b[0mecc\u001b[0m\u001b[0;34m*\u001b[0m\u001b[0mnp\u001b[0m\u001b[0;34m.\u001b[0m\u001b[0mcos\u001b[0m\u001b[0;34m(\u001b[0m\u001b[0mx0\u001b[0m\u001b[0;34m)\u001b[0m\u001b[0;34m)\u001b[0m\u001b[0;34m\u001b[0m\u001b[0m\n\u001b[1;32m      6\u001b[0m         \u001b[0mx0\u001b[0m \u001b[0;34m-=\u001b[0m \u001b[0merr\u001b[0m\u001b[0;34m\u001b[0m\u001b[0m\n",
      "\u001b[0;31mKeyboardInterrupt\u001b[0m: "
     ]
    }
   ],
   "source": [
    "t = np.linspace(0, 2*np.pi, 100)\n",
    "phi = np.array([EccentricAnomaly(T, 0.9) for T in t])"
   ]
  },
  {
   "cell_type": "code",
   "execution_count": 22,
   "metadata": {},
   "outputs": [],
   "source": [
    "plt.plot(t, phi)\n",
    "plt.show()"
   ]
  },
  {
   "cell_type": "code",
   "execution_count": null,
   "metadata": {
    "collapsed": true
   },
   "outputs": [],
   "source": []
  }
 ],
 "metadata": {
  "kernelspec": {
   "display_name": "Python 3",
   "language": "python",
   "name": "python3"
  },
  "language_info": {
   "codemirror_mode": {
    "name": "ipython",
    "version": 3
   },
   "file_extension": ".py",
   "mimetype": "text/x-python",
   "name": "python",
   "nbconvert_exporter": "python",
   "pygments_lexer": "ipython3",
   "version": "3.6.1"
  }
 },
 "nbformat": 4,
 "nbformat_minor": 2
}
