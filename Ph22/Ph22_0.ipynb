{
 "cells": [
  {
   "cell_type": "code",
   "execution_count": 1,
   "metadata": {},
   "outputs": [
    {
     "name": "stdout",
     "output_type": "stream",
     "text": [
      "Using matplotlib backend: Qt5Agg\n",
      "Populating the interactive namespace from numpy and matplotlib\n"
     ]
    }
   ],
   "source": [
    "%pylab"
   ]
  },
  {
   "cell_type": "markdown",
   "metadata": {},
   "source": [
    "This makes the plot demonstrating the relationship between the mean and eccentric anomaly"
   ]
  },
  {
   "cell_type": "code",
   "execution_count": 2,
   "metadata": {
    "collapsed": true
   },
   "outputs": [],
   "source": [
    "eccs = 0., 0.2, 0.5, 0.9, 0.99\n",
    "t = np.linspace(0, 2*np.pi)\n",
    "for e in eccs:\n",
    "    plt.plot(t, t - e*np.sin(t), label=r\"$e=%g$\"%e)\n",
    "plt.ylabel(r\"Mean Anomaly $=2 \\pi t / T$\")\n",
    "plt.xlabel(r\"Eccentric Anomaly $\\xi$\")\n",
    "plt.legend()\n",
    "plt.plot(t, np.repeat(np.random.rand()*2*np.pi,len(t)),color='black',ls='dashed')\n",
    "plt.xlim(0,2*np.pi)\n",
    "plt.ylim(0,2*np.pi)\n",
    "plt.savefig(\"Anomaly.pdf\",bbox_inches='tight')"
   ]
  },
  {
   "cell_type": "markdown",
   "metadata": {},
   "source": [
    "Defining functions for the three different rootfind methods, which return both the final answer and the sequence of error estimators."
   ]
  },
  {
   "cell_type": "code",
   "execution_count": 3,
   "metadata": {
    "collapsed": true
   },
   "outputs": [],
   "source": [
    "def SecantMethod(func, x0, x1, errtol=1e-15):\n",
    "    err = 1e100\n",
    "    errs = []\n",
    "    while err > errtol:\n",
    "        y0, y1 = func(x0), func(x1)\n",
    "        x2 = x1 - y1*(x1-x0)/(y1 - y0)\n",
    "        x0, x1 = x1, x2\n",
    "        err = abs((x0-x1)/x1) \n",
    "        errs.append(err)\n",
    "    return x1, errs\n",
    "\n",
    "def BisectionMethod(func, x0, x1, errtol=1e-15):\n",
    "    # First check whether the initial guesses bracket the root\n",
    "    y0, y1 = func(x0), func(x1)\n",
    "    if not y0*y1 < 0: \n",
    "        raise ValueError(\"Initial guesses do not bracket the root!\")\n",
    "        return\n",
    "    errs = []\n",
    "    err = 1e100\n",
    "    #Now we iterate to pare the error down\n",
    "    while err > errtol:\n",
    "        x2 = (x0+x1)*0.5  # midpoint\n",
    "        y2 = func((x0+x1)*0.5)  # function value at the midpoint\n",
    "        if y0*y2 < 0:\n",
    "            x0, x1 = x0, x2\n",
    "            y0, y1 = y0, y2\n",
    "        else:\n",
    "            x0, x1 = x1, x2\n",
    "        err = abs((x0-x1)/x1)\n",
    "        errs.append(err)\n",
    "    return x1, errs\n",
    "\n",
    "def NewtonMethod(func, dfunc, x0, errtol=1e-15):\n",
    "    err = 1e100\n",
    "    errs = []\n",
    "    while err > errtol:\n",
    "        x1 = x0 - func(x0)/dfunc(x0)\n",
    "        err = abs((x1-x0)/x1)\n",
    "        x0 = x1\n",
    "        errs.append(err)\n",
    "    return x1, errs\n",
    "        "
   ]
  },
  {
   "cell_type": "markdown",
   "metadata": {},
   "source": [
    "Let's make a plot of the convergence rate by plotting ε<sub>i+1</sub> as a function of ε<sub>i</sub>"
   ]
  },
  {
   "cell_type": "code",
   "execution_count": 5,
   "metadata": {
    "collapsed": true
   },
   "outputs": [],
   "source": [
    "func = lambda x: np.sin(x) - 0.5\n",
    "dfunc = lambda x: np.cos(x)\n",
    "sol1, errs1 = SecantMethod(func, 0.4,0.7)\n",
    "sol2, errs2 = BisectionMethod(func, 0.4,0.7)\n",
    "sol3, errs3 = NewtonMethod(func, dfunc, 0.6)\n",
    "plt.loglog(errs1[:-1],errs1[1:], label = \"Secant\")\n",
    "plt.loglog(errs2[:-1],errs2[1:], label = \"Bisection\")\n",
    "plt.loglog(errs3[:-1],errs3[1:], label = \"Newton\")\n",
    "plt.xlabel(\"$\\epsilon_{i}$\")\n",
    "plt.ylabel(\"$\\epsilon_{i+1}$\")\n",
    "plt.legend()\n",
    "plt.savefig(\"Convergence.pdf\", bbox_inches='tight')"
   ]
  },
  {
   "cell_type": "markdown",
   "metadata": {},
   "source": [
    "Now let's create a function that computes the eccentric anomaly as a function of the mean anomaly, using Newton iterations. Here I use Numba's @vectorize decorator to turn the function into a jit-compiled numpy ufunc, which runs reasonably quickly. Then I define a function that gives the polar coordinates of the orbit as a function of time, returning t, xi, and r."
   ]
  },
  {
   "cell_type": "code",
   "execution_count": 8,
   "metadata": {
    "collapsed": true
   },
   "outputs": [],
   "source": [
    "from numba import float32, float64, vectorize\n",
    "\n",
    "@vectorize([float32(float32, float32),\n",
    "            float64(float64, float64)])\n",
    "def EccentricAnomaly(mean_anomaly, ecc):\n",
    "    x0 = mean_anomaly\n",
    "    err = 1e100\n",
    "    N = 0\n",
    "    TWOPI = 2*np.pi\n",
    "    while abs(err/TWOPI) > 2e-15: # do Newton iterations\n",
    "        err = (x0 - ecc*np.sin(x0) - mean_anomaly)/(1 - ecc*np.cos(x0)) \n",
    "        x0 -= err\n",
    "        x0 = x0%(TWOPI)\n",
    "        N+=1\n",
    "        if N>1000: print(x0, err/TWOPI)\n",
    "    return x0\n",
    "\n",
    "def Orbit(a, T, e, N = 10000):\n",
    "    mean_anomaly = np.arange(0, 4*np.pi, 4*np.pi/N) % (2*np.pi)\n",
    "    xi = EccentricAnomaly(mean_anomaly, e)\n",
    "    t = T * np.arange(0,1,1./N)\n",
    "    r = a * (1 - e * np.cos(xi))\n",
    "    x = a * (np.cos(xi) - e)\n",
    "    y = a * (1 - e*e)**0.5 * np.sin(xi)\n",
    "    return t, xi, r, x, y"
   ]
  },
  {
   "cell_type": "markdown",
   "metadata": {},
   "source": [
    "Hulse-Taylor binary parameters in s - km units"
   ]
  },
  {
   "cell_type": "code",
   "execution_count": 6,
   "metadata": {
    "collapsed": true
   },
   "outputs": [],
   "source": [
    "e = 0.617139\n",
    "T = 27906.98161\n",
    "a = 2.34186 * 3e5"
   ]
  },
  {
   "cell_type": "markdown",
   "metadata": {},
   "source": [
    "Just do a plot of the orbit, uncorrected for angle"
   ]
  },
  {
   "cell_type": "code",
   "execution_count": 11,
   "metadata": {
    "collapsed": true
   },
   "outputs": [],
   "source": [
    "t, xi, r, x, y = Orbit(a, T, e)\n",
    "plt.plot(x, y)\n",
    "plt.axes().set_aspect('equal')\n",
    "plt.xlabel(\"X (km)\")\n",
    "plt.ylabel(\"Y (km)\")\n",
    "plt.savefig(\"Orbit.pdf\", bbox_inches='tight')"
   ]
  },
  {
   "cell_type": "markdown",
   "metadata": {},
   "source": [
    "Now let's do a bunch of plots for different angles and see which one looks the most reasonable"
   ]
  },
  {
   "cell_type": "code",
   "execution_count": 24,
   "metadata": {
    "collapsed": true
   },
   "outputs": [],
   "source": [
    "vx, vy = np.gradient(x, t), np.gradient(y, t)\n",
    "\n",
    "sols = np.arange(0,2*np.pi, 2*np.pi/8)\n",
    "for s in sols:\n",
    "    plt.plot(t/T, np.cos(s) * vx + np.sin(s)*vy, label=\"$\\phi=%g$\"%s)\n",
    "plt.legend(frameon=True)\n",
    "plt.xlabel(\"Phase\")\n",
    "plt.ylabel(\"Radial Velocity ($\\rm{km\\,s^{-1}}$)\")\n",
    "plt.savefig(\"RadialVelocity.pdf\", bbox_inches='tight')"
   ]
  },
  {
   "cell_type": "markdown",
   "metadata": {},
   "source": [
    "Looks like the best fit is ~4.7 rad!"
   ]
  }
 ],
 "metadata": {
  "kernelspec": {
   "display_name": "Python 3",
   "language": "python",
   "name": "python3"
  },
  "language_info": {
   "codemirror_mode": {
    "name": "ipython",
    "version": 3
   },
   "file_extension": ".py",
   "mimetype": "text/x-python",
   "name": "python",
   "nbconvert_exporter": "python",
   "pygments_lexer": "ipython3",
   "version": "3.6.1"
  }
 },
 "nbformat": 4,
 "nbformat_minor": 2
}
