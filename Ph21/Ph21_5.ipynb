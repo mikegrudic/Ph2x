{
 "cells": [
  {
   "cell_type": "code",
   "execution_count": 1,
   "metadata": {},
   "outputs": [
    {
     "name": "stdout",
     "output_type": "stream",
     "text": [
      "Using matplotlib backend: TkAgg\n",
      "Populating the interactive namespace from numpy and matplotlib\n"
     ]
    }
   ],
   "source": [
    "%pylab\n",
    "%matplotlib inline"
   ]
  },
  {
   "cell_type": "markdown",
   "metadata": {},
   "source": [
    "We'll whip up a general-purpose PCA function"
   ]
  },
  {
   "cell_type": "code",
   "execution_count": 2,
   "metadata": {
    "collapsed": true
   },
   "outputs": [],
   "source": [
    "def PCA(data):\n",
    "    mu = data.mean(axis=0)\n",
    "    dx = data - mu\n",
    "    cov = np.dot(dx.T, dx)/(len(data)-1)\n",
    "    return np.linalg.eig(cov)"
   ]
  },
  {
   "cell_type": "code",
   "execution_count": 3,
   "metadata": {},
   "outputs": [
    {
     "data": {
      "image/png": "[encoded data removed]",
      "text/plain": [
       "<matplotlib.figure.Figure at 0x7f18df8215c0>"
      ]
     },
     "metadata": {},
     "output_type": "display_data"
    }
   ],
   "source": [
    "N = 10000\n",
    "x = np.random.normal(size=(N,))\n",
    "\n",
    "y = 1 - x + np.random.normal(size=(N,))*0.5 # set up a simple linear relation between x and y\n",
    "\n",
    "plt.scatter(x,y)\n",
    "plt.show()"
   ]
  },
  {
   "cell_type": "code",
   "execution_count": 4,
   "metadata": {},
   "outputs": [
    {
     "name": "stdout",
     "output_type": "stream",
     "text": [
      "Eigenvalue 1: 0.117553\n",
      "Eigenvector 1:  [-0.74905826 -0.66250414]\n",
      "Eigenvalue 2: 2.17599\n",
      "Eigenvector 2:  [ 0.66250414 -0.74905826]\n"
     ]
    }
   ],
   "source": [
    "eigs, eigv = PCA(np.c_[x,y])\n",
    "\n",
    "for i in range(len(eigs)):\n",
    "    print(\"Eigenvalue %d: %g\"%(i+1, eigs[i]))\n",
    "    print(\"Eigenvector %d: \"%(i+1), eigv[:,i])"
   ]
  },
  {
   "cell_type": "markdown",
   "metadata": {},
   "source": [
    "We find that the eigenvector with the largest eigenvalue lies along the major axis of the ellipsoidal distribution."
   ]
  },
  {
   "cell_type": "markdown",
   "metadata": {},
   "source": [
    "# Camera Problem\n",
    "\n",
    "We need to simulate the camera problem by generating the 3D coordinates of the moving object, and then transforming those coordinates to the frame of some different cameras"
   ]
  },
  {
   "cell_type": "code",
   "execution_count": 5,
   "metadata": {
    "collapsed": true
   },
   "outputs": [],
   "source": [
    "time = np.linspace(0,2*np.pi*10, 1000)\n",
    "x = np.cos(time)\n",
    "X = np.c_[x, np.zeros_like(x), np.zeros_like(x)]"
   ]
  },
  {
   "cell_type": "markdown",
   "metadata": {},
   "source": [
    "A camera's coordinate frame is defined by 3 unit vectors: n1 pointing forward, n2 pointing left, and n3 pointing up. We shall assume that all cameras are oriented \"right-side-up\". Then, picking random pointing directions n1 is sufficient to fix their coordinate systems."
   ]
  },
  {
   "cell_type": "code",
   "execution_count": 8,
   "metadata": {},
   "outputs": [],
   "source": [
    "N_cameras = 10\n",
    "\n",
    "# a simple trick for sampling random directions is to sample a 3D Gaussian, then normalize\n",
    "n1 = np.random.normal(size=(N_cameras,3))\n",
    "norm = (n1*n1).sum(axis=1)**0.5\n",
    "n1 /= norm[:,np.newaxis]\n",
    "\n",
    "# Then to get the side-pointing vector, the right-side-up constraint implies that the XY projection of n2 is perpendicular to n1\n",
    "n2 = np.c_[n1[:,1], -n1[:,0], np.zeros(N_cameras)]\n",
    "norm = (n2*n2).sum(axis=1)**0.5\n",
    "n2 /= norm[:,np.newaxis]\n",
    "\n",
    "# Then n3 is fixed to be n1 x n2\n",
    "n3 = np.cross(n1, n2)\n",
    "\n"
   ]
  },
  {
   "cell_type": "markdown",
   "metadata": {},
   "source": [
    "Now the coordinates of the oscillator are expressible in the coordinate systems of each camera by dotting them with their unit vectors"
   ]
  },
  {
   "cell_type": "code",
   "execution_count": 11,
   "metadata": {},
   "outputs": [
    {
     "name": "stdout",
     "output_type": "stream",
     "text": [
      "(1000, 20)\n",
      "Eigenvalue 1: -4.44089e-16\n",
      "Eigenvalue 2: 3.50032\n",
      "Eigenvalue 3: -3.69644e-16\n",
      "Eigenvalue 4: 2.5966e-16\n",
      "Eigenvalue 5: -2.2258e-16\n",
      "Eigenvalue 6: 1.63783e-16\n",
      "Eigenvalue 7: -1.60399e-16\n",
      "Eigenvalue 8: 8.48262e-17\n",
      "Eigenvalue 9: -6.54978e-17\n",
      "Eigenvalue 10: -6.54978e-17\n",
      "Eigenvalue 11: 3.01492e-17\n",
      "Eigenvalue 12: 5.95622e-25\n",
      "Eigenvalue 13: -5.95622e-25\n",
      "Eigenvalue 14: -3.87304e-32\n",
      "Eigenvalue 15: 2.87474e-33\n",
      "Eigenvalue 16: 2.87474e-33\n",
      "Eigenvalue 17: -1.48216e-32\n",
      "Eigenvalue 18: -1.28011e-33\n",
      "Eigenvalue 19: 1.73801e-33\n",
      "Eigenvalue 20: 1.73801e-33\n"
     ]
    },
    {
     "name": "stderr",
     "output_type": "stream",
     "text": [
      "/home/mike/.conda/envs/idp/lib/python3.6/site-packages/ipykernel_launcher.py:6: ComplexWarning: Casting complex values to real discards the imaginary part\n",
      "  \n"
     ]
    }
   ],
   "source": [
    "camera_coords = np.c_[ np.inner(X, n2), np.inner(X, n2)]\n",
    "print(camera_coords.shape)\n",
    "eigs, eigv = PCA(camera_coords)\n",
    "\n",
    "for i in range(len(eigs)):\n",
    "    print(\"Eigenvalue %d: %g\"%(i+1, eigs[i]))\n",
    "    #print(\"Eigenvector %d: \"%(i+1), eigv[:,i].real)"
   ]
  },
  {
   "cell_type": "markdown",
   "metadata": {},
   "source": [
    "We see that there is just one eigenvalue that picks out the inherently 1D motion out of our 20-dimensional data space"
   ]
  },
  {
   "cell_type": "code",
   "execution_count": null,
   "metadata": {
    "collapsed": true
   },
   "outputs": [],
   "source": []
  }
 ],
 "metadata": {
  "kernelspec": {
   "display_name": "Python 3",
   "language": "python",
   "name": "python3"
  },
  "language_info": {
   "codemirror_mode": {
    "name": "ipython",
    "version": 3
   },
   "file_extension": ".py",
   "mimetype": "text/x-python",
   "name": "python",
   "nbconvert_exporter": "python",
   "pygments_lexer": "ipython3",
   "version": "3.6.2"
  }
 },
 "nbformat": 4,
 "nbformat_minor": 2
}
