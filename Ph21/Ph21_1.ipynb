{
 "cells": [
  {
   "cell_type": "code",
   "execution_count": 8,
   "metadata": {},
   "outputs": [
    {
     "name": "stdout",
     "output_type": "stream",
     "text": [
      "Using matplotlib backend: TkAgg\n",
      "Populating the interactive namespace from numpy and matplotlib\n"
     ]
    },
    {
     "name": "stderr",
     "output_type": "stream",
     "text": [
      "/home/mike/.conda/envs/idp/lib/python3.6/site-packages/IPython/core/magics/pylab.py:160: UserWarning: pylab import has clobbered these variables: ['text', 'table']\n",
      "`%matplotlib` prevents importing * from pylab and numpy\n",
      "  \"\\n`%matplotlib` prevents importing * from pylab and numpy\"\n"
     ]
    }
   ],
   "source": [
    "%pylab\n",
    "%matplotlib inline"
   ]
  },
  {
   "cell_type": "code",
   "execution_count": 9,
   "metadata": {
    "collapsed": true
   },
   "outputs": [],
   "source": [
    "#first let's query for the raw html \n",
    "\n",
    "import urllib.request\n",
    "values = {'Name' : 'Her X-1',\n",
    "          'OUT': 'web',\n",
    "          'DB': 'photcat',\n",
    "          'SHORT': 'long'\n",
    "         }\n",
    "url = \"http://nesssi.cacr.caltech.edu/cgi-bin/getcssconedbid_release2.cgi\"\n",
    "data = urllib.parse.urlencode(values)\n",
    "data = data.encode('ascii') # data should be bytes\n",
    "req = urllib.request.Request(url, data)\n",
    "with urllib.request.urlopen(req) as response:\n",
    "   the_page = response.read()"
   ]
  },
  {
   "cell_type": "code",
   "execution_count": 10,
   "metadata": {
    "collapsed": true
   },
   "outputs": [],
   "source": [
    "# now let's the the html into a useable array format\n",
    "text = str(the_page)\n",
    "table_lines = text.split('Photometry of Objs')[-1].split('\\\\n')[1:-3]\n",
    "table = np.array([t.replace('/','').replace('<tr>','').split('<td>')[1:] for t in table_lines],dtype=np.float64)"
   ]
  },
  {
   "cell_type": "code",
   "execution_count": 11,
   "metadata": {
    "collapsed": true
   },
   "outputs": [],
   "source": [
    "# unpack the table's columns\n",
    "ids, magnitude, magerr, RA, dec, MJD = table.T\n",
    "np.savetxt(\"herx1.dat\", np.c_[MJD, magnitude])"
   ]
  },
  {
   "cell_type": "code",
   "execution_count": 42,
   "metadata": {
    "collapsed": true
   },
   "outputs": [],
   "source": [
    "# do a plot of magnitude over time\n",
    "plt.errorbar(MJD, magnitude, magerr,ls='', marker='d',color='black')\n",
    "plt.xlabel(\"MJD\")\n",
    "plt.ylabel(\"Magnitude\")\n",
    "plt.savefig(\"MJF_v_Magnitude.pdf\",bbox_inches='tight')"
   ]
  },
  {
   "cell_type": "code",
   "execution_count": 39,
   "metadata": {
    "collapsed": true
   },
   "outputs": [],
   "source": [
    "# request the VOTable\n",
    "\n",
    "import urllib.request\n",
    "values = {'Name' : 'Her X-1',\n",
    "          'OUT': 'vot',\n",
    "          'DB': 'photcat',\n",
    "          'SHORT': 'long'\n",
    "         }\n",
    "url = \"http://nesssi.cacr.caltech.edu/cgi-bin/getcssconedbid_release2.cgi\"\n",
    "data = urllib.parse.urlencode(values)\n",
    "data = data.encode('ascii') # data should be bytes\n",
    "req = urllib.request.Request(url, data)\n",
    "with urllib.request.urlopen(req) as response:\n",
    "   the_page = response.read()\n",
    "the_page = str(the_page)\n",
    "# download the .vot\n",
    "the_url = \"http://\" + the_page.split(\"download\")[0].replace(\">\",\"\").split(\"http://\")[-1]\n",
    "\n",
    "local_filename, headers = urllib.request.urlretrieve(the_url, filename=\"data.vot\")\n",
    "html = open(local_filename)\n",
    "html.close()"
   ]
  },
  {
   "cell_type": "code",
   "execution_count": 77,
   "metadata": {},
   "outputs": [
    {
     "name": "stdout",
     "output_type": "stream",
     "text": [
      "[<FIELD ID=\"MasterID\" arraysize=\"*\" datatype=\"char\" name=\"ID\" ucd=\"meta.id\"/>, <FIELD ID=\"DetectionID\" arraysize=\"*\" datatype=\"char\" name=\"DetectionID\" ucd=\"meta.id\"/>, <FIELD ID=\"RAJ2000\" datatype=\"float\" name=\"RAJ2000\" precision=\"5\" ucd=\"pos.eq.ra;meta.main\" unit=\"deg\" utype=\"stc:AstroCoords.Position2D.Value2.C1\"/>, <FIELD ID=\"DEJ2000\" datatype=\"float\" name=\"DEJ2000\" precision=\"5\" ucd=\"pos.eq.dec;meta.main\" unit=\"deg\" utype=\"stc:AstroCoords.Position2D.Value2.C2\"/>, <FIELD ID=\"ObsTime\" arraysize=\"1\" datatype=\"float\" name=\"ObsTime\" ucd=\"time.epoch\" unit=\"d\"/>, <FIELD ID=\"Mag\" arraysize=\"1\" datatype=\"float\" name=\"Mag\" ucd=\"phot.mag\"/>, <FIELD ID=\"Magerr\" arraysize=\"1\" datatype=\"float\" name=\"Magerr\" ucd=\"stat.error;phot.mag\"/>, <FIELD ID=\"Airmass\" arraysize=\"1\" datatype=\"float\" name=\"Airmass\" ucd=\"obs.airMass\"/>, <FIELD ID=\"ExpTime\" datatype=\"float\" name=\"ExpTime\" precision=\"1\" ucd=\"time.duration;obs.exposure\" unit=\"s\" width=\"6\"/>, <FIELD ID=\"CCD_X_position\" arraysize=\"1\" datatype=\"float\" name=\"Xpos\" ucd=\"pos\"/>, <FIELD ID=\"CCD_Y_position\" arraysize=\"1\" datatype=\"float\" name=\"Ypos\" ucd=\"pos\"/>, <FIELD ID=\"ISO_flux\" arraysize=\"1\" datatype=\"float\" name=\"ISOFlux\" ucd=\"phot.flux\"/>, <FIELD ID=\"Isophotal_area\" arraysize=\"1\" datatype=\"int\" name=\"ISOArea\" ucd=\"phys.area\"/>, <FIELD ID=\"Flags\" arraysize=\"1\" datatype=\"int\" name=\"Flags\" ucd=\"meta.code\"/>, <FIELD ID=\"FWHM\" arraysize=\"1\" datatype=\"float\" name=\"FWHM\" ucd=\"phys.angSize\"/>, <FIELD ID=\"Theta\" arraysize=\"1\" datatype=\"float\" name=\"Theta\" ucd=\"pos.posAng\"/>, <FIELD ID=\"Elongation\" arraysize=\"1\" datatype=\"float\" name=\"Elongation\" ucd=\"pos.angDistance\"/>, <FIELD ID=\"MuMax\" arraysize=\"1\" datatype=\"float\" name=\"MuMax\" ucd=\"stat\"/>, <FIELD ID=\"TVar\" arraysize=\"1\" datatype=\"float\" name=\"TVar\" ucd=\"src.var\"/>, <FIELD ID=\"Blend\" arraysize=\"1\" datatype=\"int\" name=\"Blend\" ucd=\"meta.code.multip\"/>]\n"
     ]
    },
    {
     "name": "stderr",
     "output_type": "stream",
     "text": [
      "WARNING: W03: data.vot:4:0: W03: Implicitly generating an ID from a name 'query results' -> 'query_results' [astropy.io.votable.xmlutil]\n"
     ]
    }
   ],
   "source": [
    "#read the votable and plot the data\n",
    "from astropy.io.votable import parse\n",
    "votable = parse(\"data.vot\", pedantic=False)\n",
    "\n",
    "x = None\n",
    "for resource in votable.resources:\n",
    "    for table in resource.tables:\n",
    "    # ... do something with the table ...\n",
    "        x = table\n",
    "        pass\n",
    "print(x.fields)"
   ]
  },
  {
   "cell_type": "code",
   "execution_count": 78,
   "metadata": {
    "collapsed": true
   },
   "outputs": [],
   "source": [
    "MJD, mag, magerr = np.array(x.array[\"ObsTime\"]).T[0], np.array(x.array[\"Mag\"]).T[0], np.array(x.array[\"Magerr\"]).T[0]\n",
    "plt.errorbar(MJD, mag, magerr,ls='', marker='d',color='black')\n",
    "plt.xlabel(\"MJD\")\n",
    "plt.ylabel(\"Magnitude\")\n",
    "plt.savefig(\"MJF_v_Magnitude.pdf\",bbox_inches='tight')"
   ]
  },
  {
   "cell_type": "code",
   "execution_count": null,
   "metadata": {
    "collapsed": true
   },
   "outputs": [],
   "source": []
  }
 ],
 "metadata": {
  "kernelspec": {
   "display_name": "Python 3",
   "language": "python",
   "name": "python3"
  },
  "language_info": {
   "codemirror_mode": {
    "name": "ipython",
    "version": 3
   },
   "file_extension": ".py",
   "mimetype": "text/x-python",
   "name": "python",
   "nbconvert_exporter": "python",
   "pygments_lexer": "ipython3",
   "version": "3.6.2"
  }
 },
 "nbformat": 4,
 "nbformat_minor": 2
}
