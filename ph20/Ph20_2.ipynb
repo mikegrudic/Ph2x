{
 "cells": [
  {
   "cell_type": "code",
   "execution_count": 14,
   "metadata": {},
   "outputs": [
    {
     "name": "stdout",
     "output_type": "stream",
     "text": [
      "Using matplotlib backend: TkAgg\n",
      "Populating the interactive namespace from numpy and matplotlib\n"
     ]
    },
    {
     "name": "stderr",
     "output_type": "stream",
     "text": [
      "/home/mike/.conda/envs/idp/lib/python3.6/site-packages/IPython/core/magics/pylab.py:160: UserWarning: pylab import has clobbered these variables: ['f']\n",
      "`%matplotlib` prevents importing * from pylab and numpy\n",
      "  \"\\n`%matplotlib` prevents importing * from pylab and numpy\"\n"
     ]
    }
   ],
   "source": [
    "%pylab\n",
    "from numba import njit"
   ]
  },
  {
   "cell_type": "markdown",
   "metadata": {},
   "source": [
    "First we'll write some general-purpose integration functions. Care must be taken to make sure that the correct function evaluation points are being computed."
   ]
  },
  {
   "cell_type": "code",
   "execution_count": 31,
   "metadata": {},
   "outputs": [],
   "source": [
    "def Midpoint(func, a, b, N=10):\n",
    "    H = (b - a)/N\n",
    "    midpoints = a + H * (0.5 + np.arange(N))\n",
    "    f = func(midpoints)\n",
    "    return (H * f).sum()\n",
    "\n",
    "def LeftPoint(func, a, b, N=10):\n",
    "    H = (b-a)/N\n",
    "    leftpoints = np.arange(0,b,H)\n",
    "    return (H*f(leftpoints)).sum()\n",
    "\n",
    "def Trapz(func, a, b, N=10):\n",
    "    H = (b-a)/N\n",
    "    x = np.linspace(a,b,N+1) # if we have N intervals, we have N+1 abcissae\n",
    "    f = func(x)\n",
    "    return np.sum(H * 0.5 * (f[1:] + f[:-1]))\n",
    "\n",
    "def Simps(func, a, b, N=10):\n",
    "    H = 2*(b-a)/N # factor of 2 because in the text H is the distance from a to b\n",
    "    x = np.linspace(a,b,N+1) # if we have N intervals, we have N+1 abcissae\n",
    "    f = func(x)\n",
    "    return H/6 * (f[0] + f[-1] + 2*f[2:-2:2].sum() + 4*f[1::2].sum()) # extended Simpson rule - note that I have \n",
    "\n",
    "# Doubles the number of evaluation points until we get the error we want. \n",
    "# This tries to be fancy by saving the function values from the last iteration\n",
    "def AdaptiveSimps(func, a, b, errtol=1e-15):\n",
    "    err = 1e100\n",
    "    old_integral = 1e100\n",
    "    N = 2\n",
    "    f = np.empty(0)\n",
    "    while err > errtol:\n",
    "        H = 2*(b-a)/N # factor of 2 because in the text H is the distance from a to b\n",
    "        x = np.linspace(a,b,N+1) # if we have N intervals, we have N+1 abcissae\n",
    "        if len(f) > 0:\n",
    "            fnew = np.empty(N+1) # create a new array to store the points\n",
    "            fnew[::2] = f  # even values are the old points\n",
    "            fnew[1::2] = func(x[1::2]) # odd values are the new founds\n",
    "            f = fnew\n",
    "        else:\n",
    "            f = func(x)\n",
    "        integral = H/6 * (f[0] + f[-1] + 2*f[2:-2:2].sum() + 4*f[1::2].sum())\n",
    "        err = abs((old_integral - integral)/integral)\n",
    "        old_integral = integral\n",
    "        N = N << 1 # double N\n",
    "    return integral"
   ]
  },
  {
   "cell_type": "markdown",
   "metadata": {},
   "source": [
    "Now let's do the convergence plot"
   ]
  },
  {
   "cell_type": "code",
   "execution_count": 19,
   "metadata": {},
   "outputs": [],
   "source": [
    "methods = {\"Midpoint\": Midpoint, \"Trapezoidal\": Trapz, \"Simpson\": Simps, \"Left Point\": LeftPoint}\n",
    "plt.clf()\n",
    "\n",
    "f = lambda x: np.exp(x)\n",
    "# Note: if you haven't run into this operator, it's a bit shift - we take the integer 1 and shift its bits \n",
    "# to the left by the values in arange, which gives us powers of 2. This is the most efficient way to get powers of 2.\n",
    "npoints = 1 << np.arange(1,28) \n",
    "for m in methods:\n",
    "    method = methods[m]\n",
    "    errors = np.abs(np.array([method(f, 0, 1, N) for N in npoints]) - 1.718281828459045235)\n",
    "    plt.scatter(npoints, errors, label=m)\n",
    "plt.loglog()\n",
    "plt.ylim(1e-17,1)\n",
    "plt.xlim(1,2**30)\n",
    "plt.xlabel(r\"Func Evaluations\")\n",
    "plt.ylabel(r\"Error\")\n",
    "plt.legend()\n",
    "plt.savefig(\"Convergence.pdf\", bbox_inches='tight')"
   ]
  },
  {
   "cell_type": "markdown",
   "metadata": {},
   "source": [
    "We can test our adaptive Simpson function and benchmark it vs. quad"
   ]
  },
  {
   "cell_type": "code",
   "execution_count": 33,
   "metadata": {},
   "outputs": [
    {
     "name": "stdout",
     "output_type": "stream",
     "text": [
      "[9.102726350462831e-09, 5.689702042843692e-10, 3.556155370176839e-11, 2.2226664952995634e-12, 1.389999226830696e-13, 8.659739592076221e-15, 8.659739592076221e-15, 6.661338147750939e-16, 0.0]\n",
      "336 µs ± 4.1 µs per loop (mean ± std. dev. of 7 runs, 1000 loops each)\n"
     ]
    }
   ],
   "source": [
    "print([AdaptiveSimps(f,0,1,errtol = a) - (np.e-1) for a in np.logspace(-7,-15,9)])\n",
    "%timeit AdaptiveSimps(f, 0, 1)"
   ]
  },
  {
   "cell_type": "code",
   "execution_count": 36,
   "metadata": {},
   "outputs": [
    {
     "name": "stdout",
     "output_type": "stream",
     "text": [
      "14.6 µs ± 29.7 ns per loop (mean ± std. dev. of 7 runs, 100000 loops each)\n"
     ]
    }
   ],
   "source": [
    "from scipy.integrate import quad\n",
    "%timeit quad(f, 0, 1, epsrel=1e-15)"
   ]
  }
 ],
 "metadata": {
  "kernelspec": {
   "display_name": "Python 3",
   "language": "python",
   "name": "python3"
  },
  "language_info": {
   "codemirror_mode": {
    "name": "ipython",
    "version": 3
   },
   "file_extension": ".py",
   "mimetype": "text/x-python",
   "name": "python",
   "nbconvert_exporter": "python",
   "pygments_lexer": "ipython3",
   "version": "3.6.2"
  }
 },
 "nbformat": 4,
 "nbformat_minor": 2
}
