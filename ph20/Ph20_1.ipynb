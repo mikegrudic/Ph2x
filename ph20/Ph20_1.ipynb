{
 "cells": [
  {
   "cell_type": "code",
   "execution_count": 3,
   "metadata": {},
   "outputs": [
    {
     "name": "stdout",
     "output_type": "stream",
     "text": [
      "Using matplotlib backend: TkAgg\n",
      "Populating the interactive namespace from numpy and matplotlib\n"
     ]
    }
   ],
   "source": [
    "%pylab\n",
    "import math"
   ]
  },
  {
   "cell_type": "markdown",
   "metadata": {},
   "source": [
    "First let's do the pure-Python version of the Lissajous code"
   ]
  },
  {
   "cell_type": "code",
   "execution_count": 18,
   "metadata": {},
   "outputs": [],
   "source": [
    "def Lissajous(t, fx, fy, ax, ay, phase=0., N=10000):\n",
    "    # we're gonna specify the number of beat periods\n",
    "    dt = t/N\n",
    "    t, x, y, z = [], [], [], []\n",
    "    for i in range(N):\n",
    "        t.append(i*dt)\n",
    "        x.append(ax * math.cos(2*math.pi*fx*t[-1]))\n",
    "        y.append(ay * math.sin(2*math.pi*fy*t[-1] + phase))\n",
    "        z.append(x[-1] + y[-1])\n",
    "    \n",
    "    # Do the I/O to the datafile\n",
    "    with open(\"TXYZ.dat\",'w') as f:\n",
    "        for i in range(N):\n",
    "            f.write(\"%g\\t%g\\t%g\\t%g\\n\"%(t[i],x[i],y[i],z[i]))\n",
    "            \n",
    "    return t, x, y, z\n",
    "\n",
    "def LissajousNumpy(t, fx, fy, ax, ay, phase=0., N=10000):\n",
    "    # we're gonna specify the number of beat periods\n",
    "    t = np.arange(0, t, t/N)\n",
    "    x = ax * np.cos(2*np.pi*fx*t)\n",
    "    y = ax * np.sin(2*np.pi*fy*t + phase)\n",
    "    z = x + y\n",
    "    np.savetxt(\"TXYZ.dat\", np.c_[t,x,y,z])\n",
    "    return t, x, y, z"
   ]
  },
  {
   "cell_type": "markdown",
   "metadata": {},
   "source": [
    "Here's a little routine for reading back in the ASCII file that was created, in pure Python. numpy should just use np.loadtxt"
   ]
  },
  {
   "cell_type": "code",
   "execution_count": 31,
   "metadata": {},
   "outputs": [],
   "source": [
    "def ReadDatafile(file):\n",
    "    \"\"\"Reads a tab-separated datafile and returns the columns as lists\"\"\"\n",
    "    ncol = None\n",
    "    cols = []\n",
    "    for line in open(file,'r').readlines():\n",
    "        if not ncol: \n",
    "            ncol = len(line.split())\n",
    "            cols = [[] for n in line.split()]  # create an empty list for each column\n",
    "        values = [float(n) for n in line.split()]\n",
    "        \n",
    "        for i in range(ncol):\n",
    "            cols[i].append(values[i])\n",
    "            \n",
    "    return cols\n",
    "    \n",
    "T, X, Y, Z = ReadDatafile(\"TXYZ.dat\")"
   ]
  },
  {
   "cell_type": "code",
   "execution_count": 35,
   "metadata": {},
   "outputs": [],
   "source": [
    "#plot \n",
    "t, x, y, z = LissajousNumpy(2*np.pi*10, 1., 2.1, 1., 1.)\n",
    "plt.plot(x,y)\n",
    "plt.xlabel(\"X\")\n",
    "plt.ylabel(\"Y\")\n",
    "plt.savefig(\"Lissajous.pdf\", bbox_inches='tight')\n",
    "\n",
    "# plot beating signal\n",
    "plt.clf()\n",
    "plt.plot(t, z)\n",
    "plt.xlabel(\"t\")\n",
    "plt.ylabel(\"Z\")\n",
    "plt.savefig(\"Beats.pdf\", bbox_inches='tight')"
   ]
  },
  {
   "cell_type": "code",
   "execution_count": null,
   "metadata": {},
   "outputs": [],
   "source": []
  },
  {
   "cell_type": "code",
   "execution_count": null,
   "metadata": {
    "collapsed": true
   },
   "outputs": [],
   "source": []
  }
 ],
 "metadata": {
  "kernelspec": {
   "display_name": "Python 3",
   "language": "python",
   "name": "python3"
  },
  "language_info": {
   "codemirror_mode": {
    "name": "ipython",
    "version": 3
   },
   "file_extension": ".py",
   "mimetype": "text/x-python",
   "name": "python",
   "nbconvert_exporter": "python",
   "pygments_lexer": "ipython3",
   "version": "3.6.2"
  }
 },
 "nbformat": 4,
 "nbformat_minor": 2
}
